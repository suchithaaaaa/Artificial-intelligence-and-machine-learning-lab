{
 "cells": [
  {
   "cell_type": "code",
   "execution_count": 1,
   "id": "7865a73b",
   "metadata": {},
   "outputs": [
    {
     "name": "stdout",
     "output_type": "stream",
     "text": [
      "80\n"
     ]
    }
   ],
   "source": [
    "from sys import maxsize\n",
    "from itertools import permutations\n",
    "V = 4\n",
    "def travellingSalesmanProblem(graph, s):\n",
    "    # store all vertex apart from source vertex\n",
    "    vertex = []\n",
    "    for i in range(V):\n",
    "        if i != s:\n",
    "            vertex.append(i)\n",
    "            # store minimum weight Hamiltonian Cycle\n",
    "        min_path = maxsize\n",
    "        next_permutation=permutations(vertex)\n",
    "        for i in next_permutation:\n",
    "        # store current Path weight(cost)\n",
    "            current_pathweight = 0\n",
    "            # compute current path weight\n",
    "            k = s\n",
    "            for j in i:\n",
    "                current_pathweight += graph[k][j]\n",
    "                k = j\n",
    "            current_pathweight += graph[k][s]\n",
    "                # Update minimum\n",
    "            min_path = min(min_path, current_pathweight)\n",
    "    return min_path\n",
    "                # Driver Code\n",
    "if __name__ == \"__main__\":\n",
    "# matrix representation of graph\n",
    "    graph = [[0, 10, 15, 20], [10, 0, 35, 25],\n",
    "            [15, 35, 0, 30], [20, 25, 30, 0]]\n",
    "    s = 0\n",
    "    print(travellingSalesmanProblem(graph, s))\n",
    "               "
   ]
  },
  {
   "cell_type": "code",
   "execution_count": null,
   "id": "0a9ebda4",
   "metadata": {},
   "outputs": [],
   "source": []
  }
 ],
 "metadata": {
  "kernelspec": {
   "display_name": "Python 3 (ipykernel)",
   "language": "python",
   "name": "python3"
  },
  "language_info": {
   "codemirror_mode": {
    "name": "ipython",
    "version": 3
   },
   "file_extension": ".py",
   "mimetype": "text/x-python",
   "name": "python",
   "nbconvert_exporter": "python",
   "pygments_lexer": "ipython3",
   "version": "3.9.7"
  }
 },
 "nbformat": 4,
 "nbformat_minor": 5
}
